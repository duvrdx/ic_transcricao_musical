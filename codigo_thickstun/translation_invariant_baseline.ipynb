{
 "cells": [
  {
   "cell_type": "code",
   "execution_count": 1,
   "metadata": {},
   "outputs": [],
   "source": [
    "import os,sys\n",
    "import cPickle as pickle\n",
    "import numpy as np                                       # fast vectors and matrices\n",
    "import matplotlib.pyplot as plt                          # plotting\n",
    "from scipy.fftpack import fft\n",
    "\n",
    "from time import time\n",
    "\n",
    "sys.path.insert(0,'lib/')\n",
    "import config\n",
    "import diagnostics\n",
    "import base_model\n",
    "\n",
    "from sklearn.metrics import average_precision_score\n",
    "\n",
    "import tensorflow as tf\n",
    "\n",
    "%matplotlib inline"
   ]
  },
  {
   "cell_type": "code",
   "execution_count": 2,
   "metadata": {},
   "outputs": [],
   "source": [
    "with open(config.labels_path) as f:\n",
    "    labels = pickle.load(f)"
   ]
  },
  {
   "cell_type": "code",
   "execution_count": 3,
   "metadata": {},
   "outputs": [],
   "source": [
    "def create_filters(d,k):\n",
    "    x = np.linspace(0, 2*np.pi, d, endpoint=False)\n",
    "    wsin = np.empty((1,d,1,k), dtype=np.float32)\n",
    "    wcos = np.empty((1,d,1,k), dtype=np.float32)\n",
    "    start_freq = 50.\n",
    "    end_freq = 6000.\n",
    "    num_cycles = start_freq*d/44100.\n",
    "    scaling_ind = np.log(end_freq/start_freq)/k\n",
    "    window_mask = 1.0-1.0*np.cos(x)\n",
    "    for ind in range(k):\n",
    "        wsin[0,:,0,ind] = window_mask*np.sin(np.exp(ind*scaling_ind)*num_cycles*x)\n",
    "        wcos[0,:,0,ind] = window_mask*np.cos(np.exp(ind*scaling_ind)*num_cycles*x)\n",
    "            \n",
    "    return wsin,wcos\n",
    "\n",
    "class Spectrograms(base_model.Model):\n",
    "    def __init__(self, *args, **kwargs):\n",
    "        super(Spectrograms, self).__init__(*args, **kwargs)\n",
    "\n",
    "    def define_graph(self):\n",
    "        super(Spectrograms, self).define_graph()\n",
    "        \n",
    "        # lvl1 convolutions are shared between regions\n",
    "        self.k = 512                # lvl1 nodes\n",
    "        self.d = 4096               # lvl1 receptive field\n",
    "        \n",
    "        d2_x = 1          # lvl2 input dims_x\n",
    "        d2_y = 128          # lvl2 input dims_y\n",
    "        k2 = 128        # num lvl2 filters\n",
    "        stride_y = 2    # lvl2 stride\n",
    "        \n",
    "        d3_x = 25 # lvl3 input dims_x\n",
    "        d3_y = 1 # lvl3 input dims_y (fully connected)\n",
    "        k3 = 256 # num lvl3 filters\n",
    "\n",
    "        num_regions  = 1 + (self.window-self.d)/self.stride\n",
    "        #print 'First layer regions: ({},{})'.format(num_regions,self.k)\n",
    "        num_regions2_x  = 1 + (num_regions-d2_x)/1\n",
    "        num_regions2_y = 1 + (self.k-d2_y)/stride_y\n",
    "        #print 'Second layer regions: ({},{})'.format(num_regions2_x,num_regions2_y)\n",
    "        num_regions3_x = 1 + (num_regions2_x - d3_x)/1\n",
    "        num_regions3_y = 1 + (num_regions2_y - d3_y)/1\n",
    "\n",
    "        wsin,wcos = create_filters(self.d,self.k)\n",
    "\n",
    "        print '---- Weights ----'\n",
    "        wscale = .0001\n",
    "        with tf.variable_scope('parameters'):\n",
    "            w = tf.Variable(wscale*tf.random_normal([d2_x,d2_y,1,k2],seed=999))\n",
    "            print 'w',w\n",
    "            wavg = self.register_weights(w,'w',average=.9998)\n",
    "            w2 = tf.Variable(wscale*tf.random_normal([d3_x,d3_y,k2,k3],seed=999))\n",
    "            print 'w2',w2\n",
    "            w2avg = self.register_weights(w2,'w2',average=.9998)\n",
    "            beta = tf.Variable(wscale*tf.random_normal([num_regions3_x*num_regions3_y*k3,self.m],seed=999))\n",
    "            print 'beta',beta\n",
    "            betaavg = self.register_weights(beta,'beta',average=.9998)\n",
    "\n",
    "        print '---- Layers ----'\n",
    "        with tf.variable_scope('queued_model'):\n",
    "            zx = tf.square(tf.nn.conv2d(self.xq,wsin,strides=[1,1,self.stride,1],padding='VALID')) \\\n",
    "               + tf.square(tf.nn.conv2d(self.xq,wcos,strides=[1,1,self.stride,1],padding='VALID'))\n",
    "            print 'zx',zx\n",
    "            z2 = tf.nn.relu(tf.nn.conv2d(tf.log(zx+10e-15),w,strides=[1,1,1,stride_y],padding='VALID',data_format='NCHW'))\n",
    "            print 'z2',z2\n",
    "            z3 = tf.nn.relu(tf.nn.conv2d(z2,w2,strides=[1,1,1,1],padding='VALID',data_format='NCHW'))\n",
    "            print 'z3',z3\n",
    "            y = tf.matmul(tf.reshape(z3,[self.batch_size,num_regions3_x*num_regions3_y*k3]),beta)\n",
    "            print 'y',y\n",
    "            self.loss = tf.reduce_mean(tf.nn.l2_loss(y-tf.reshape(self.yq,[self.batch_size,self.m])))\n",
    "\n",
    "        with tf.variable_scope('direct_model'):\n",
    "            self.zx = tf.square(tf.nn.conv2d(self.xd,wsin,strides=[1,1,self.stride,1],padding='VALID')) \\\n",
    "                    + tf.square(tf.nn.conv2d(self.xd,wcos,strides=[1,1,self.stride,1],padding='VALID'))\n",
    "            self.z2 = tf.nn.relu(tf.nn.conv2d(tf.log(self.zx+10e-15),wavg,strides=[1,1,1,stride_y],padding='VALID',data_format='NCHW'))\n",
    "            self.z3 = tf.nn.relu(tf.nn.conv2d(self.z2,w2avg,strides=[1,1,1,1],padding='VALID',data_format='NCHW'))\n",
    "            self.y_direct = tf.matmul(tf.reshape(self.z3,[tf.shape(self.xd)[0],num_regions3_x*num_regions3_y*k3]),betaavg)\n",
    "            self.loss_direct = tf.reduce_mean(tf.nn.l2_loss(self.y_direct-self.yd))"
   ]
  },
  {
   "cell_type": "code",
   "execution_count": 4,
   "metadata": {},
   "outputs": [
    {
     "name": "stdout",
     "output_type": "stream",
     "text": [
      "---- Weights ----\n",
      "w <tf.Variable 'parameters/Variable:0' shape=(1, 128, 1, 128) dtype=float32_ref>\n",
      "w2 <tf.Variable 'parameters/Variable_2:0' shape=(25, 1, 128, 256) dtype=float32_ref>\n",
      "beta <tf.Variable 'parameters/Variable_4:0' shape=(49408, 128) dtype=float32_ref>\n",
      "---- Layers ----\n",
      "zx Tensor(\"queued_model/add:0\", shape=(150, 1, 25, 512), dtype=float32)\n",
      "z2 Tensor(\"queued_model/Relu:0\", shape=(150, 128, 25, 193), dtype=float32)\n",
      "z3 Tensor(\"queued_model/Relu_1:0\", shape=(150, 256, 1, 193), dtype=float32)\n",
      "y Tensor(\"queued_model/MatMul:0\", shape=(150, 128), dtype=float32)\n"
     ]
    }
   ],
   "source": [
    "try: model.stop()\n",
    "except NameError: pass\n",
    "model = Spectrograms(labels,checkpoint_path='convnet_experimental2/', outputs=1, window=16384, mmap=True,\n",
    "                     normalize=True, extended_test_set=True, use_mirex=True, init=False, restrict=False)"
   ]
  },
  {
   "cell_type": "code",
   "execution_count": null,
   "metadata": {},
   "outputs": [
    {
     "name": "stdout",
     "output_type": "stream",
     "text": [
      "---- Weights ----\n",
      "w <tf.Variable 'parameters/Variable:0' shape=(1, 128, 1, 128) dtype=float32_ref>\n",
      "w2 <tf.Variable 'parameters/Variable_2:0' shape=(25, 1, 128, 256) dtype=float32_ref>\n",
      "beta <tf.Variable 'parameters/Variable_4:0' shape=(49408, 128) dtype=float32_ref>\n",
      "---- Layers ----\n",
      "zx Tensor(\"queued_model/add:0\", shape=(150, 1, 25, 512), dtype=float32)\n",
      "z2 Tensor(\"queued_model/Relu:0\", shape=(150, 128, 25, 193), dtype=float32)\n",
      "z3 Tensor(\"queued_model/Relu_1:0\", shape=(150, 256, 1, 193), dtype=float32)\n",
      "y Tensor(\"queued_model/MatMul:0\", shape=(150, 128), dtype=float32)\n",
      "avp_test\tavp_train\tmse_test\tmse_train\ttime\tutime\n",
      "0.021962        0.026544        1.171773        1.453633        27      27      \n",
      "0.641640        0.629143        1.168459        1.449766        89      26      \n",
      "0.692658        0.680274        1.143351        1.419941        88      26      \n",
      "0.712450        0.703511        1.090709        1.357223        89      27      \n",
      "0.723729        0.717435        1.019776        1.272305        88      26      \n",
      "0.731727        0.727985        0.941391        1.177692        88      26      \n",
      "0.738127        0.736918        0.864034        1.083403        89      27      \n",
      "0.743336        0.744703        0.792929        0.995496        88      26      \n",
      "0.747811        0.751706        0.730998        0.917631        89      27      \n",
      "0.751075        0.758114        0.680082        0.851829        89      27      \n",
      "0.753954        0.764046        0.638573        0.796880        88      27      \n",
      "0.756281        0.769491        0.605599        0.751561        88      26      \n",
      "0.758360        0.774507        0.580014        0.714978        88      26      \n",
      "0.759944        0.779204        0.560578        0.685542        87      27      \n",
      "0.761279        0.783565        0.545743        0.661460        87      27      \n",
      "0.762456        0.787558        0.534698        0.642118        87      27      \n",
      "0.763352        0.791327        0.526662        0.626405        87      26      \n",
      "0.764206        0.794960        0.520722        0.613364        87      27      \n",
      "0.765022        0.798208        0.516257        0.602646        87      26      \n",
      "0.765436        0.801345        0.513390        0.593744        87      27      \n",
      "0.765885        0.804386        0.511557        0.586391        87      27      \n",
      "0.766156        0.807133        0.510277        0.579999        86      26      \n",
      "0.766319        0.809680        0.509454        0.574535        88      28      \n",
      "0.766260        0.812175        0.509169        0.569638        90      27      \n",
      "0.766245        0.814467        0.509094        0.565408        90      28      \n",
      "0.766354        0.816611        0.509116        0.561720        92      30      \n",
      "0.766266        0.818586        0.509413        0.558405        90      28      \n",
      "0.766391        0.820457        0.509607        0.555367        90      28      \n",
      "0.766423        0.822200        0.509849        0.552570        90      28      \n",
      "0.766666        0.823763        0.509960        0.550080        92      30      \n",
      "0.766782        0.825296        0.510154        0.547752        90      28      \n",
      "0.766855        0.826724        0.510456        0.545673        90      28      \n",
      "0.766862        0.828096        0.510920        0.543834        89      27      \n",
      "0.766809        0.829375        0.511506        0.542094        90      28      \n",
      "0.766779        0.830512        0.512031        0.540457        90      27      \n",
      "0.767034        0.831586        0.512205        0.538943        92      30      \n",
      "0.767177        0.832590        0.512432        0.537530        89      27      \n",
      "0.767208        0.833539        0.512805        0.536204        90      28      \n",
      "0.767327        0.834388        0.513096        0.535038        90      28      \n",
      "0.766145        0.844392        0.517629        0.522031        94      31      \n",
      "0.766083        0.844901        0.517933        0.521433        91      29      \n",
      "0.765832        0.845269        0.518391        0.520940        91      29      \n",
      "0.765813        0.845591        0.518620        0.520519        92      30      \n",
      "0.765792        0.845951        0.518823        0.520068        91      29      \n",
      "0.765666        0.846255        0.519064        0.519669        92      30      \n",
      "0.765681        0.846495        0.519245        0.519315        91      29      \n",
      "0.765801        0.846809        0.519326        0.518903        92      30      \n",
      "0.765813        0.847154        0.519440        0.518437        91      29      \n",
      "0.765957        0.847537        0.519422        0.517965        93      31      \n",
      "0.765903        0.847951        0.519570        0.517500        92      30      \n",
      "0.765926        0.848239        0.519593        0.517063        89      28      \n",
      "0.765933        0.848618        0.519662        0.516628        91      28      \n",
      "0.765992        0.848963        0.519674        0.516172        91      28      \n",
      "0.766057        0.849303        0.519700        0.515720        91      28      \n",
      "0.766141        0.849656        0.519662        0.515266        91      29      \n",
      "0.765910        0.850075        0.519943        0.514717        96      34      \n",
      "0.765702        0.850442        0.520215        0.514253        94      31      \n",
      "0.765712        0.850698        0.520252        0.513882        94      31      \n",
      "0.765672        0.850840        0.520363        0.513630        95      32      \n",
      "0.765642        0.851047        0.520441        0.513368        94      31      \n",
      "0.765669        0.851214        0.520375        0.513084        95      32      \n",
      "0.765762        0.851503        0.520421        0.512716        96      34      \n",
      "0.765760        0.851775        0.520483        0.512403        94      32      \n",
      "0.765796        0.852033        0.520540        0.512137        95      32      \n",
      "0.765722        0.852239        0.520588        0.511870        94      32      \n",
      "0.765609        0.852434        0.520776        0.511671        94      32      \n",
      "0.765433        0.852623        0.520987        0.511479        96      33      \n",
      "0.765400        0.852890        0.521115        0.511229        95      33      \n",
      "0.765323        0.853066        0.521222        0.510972        95      32      \n",
      "0.765248        0.853200        0.521324        0.510702        96      33      \n",
      "0.765150        0.853395        0.521468        0.510443        96      34      \n",
      "0.764835        0.853582        0.521754        0.510235        94      31      \n",
      "0.764742        0.853768        0.521773        0.509992        95      33      \n",
      "0.764752        0.853904        0.521837        0.509795        96      33      \n",
      "0.764807        0.854034        0.521938        0.509566        92      31      \n",
      "0.765048        0.854198        0.521869        0.509398        94      32      \n",
      "0.765051        0.854344        0.521817        0.509248        92      31      \n",
      "0.764940        0.854489        0.521986        0.509082        93      31      \n",
      "0.764825        0.854599        0.522098        0.508913        94      32      \n",
      "0.764671        0.854746        0.522198        0.508775        92      30      \n",
      "0.764638        0.854791        0.522266        0.508663        95      33      \n",
      "0.764640        0.854958        0.522356        0.508480        96      34      \n",
      "0.764653        0.855072        0.522380        0.508271        93      31      \n",
      "0.764657        0.855265        0.522353        0.508004        94      32      \n",
      "0.764788        0.855404        0.522248        0.507786        93      31      \n",
      "0.764863        0.855564        0.522178        0.507592        94      32      \n",
      "0.764878        0.855751        0.522091        0.507450        94      33      \n",
      "0.764837        0.855852        0.522115        0.507342        93      31      \n",
      "0.764839        0.855990        0.522187        0.507183        94      33      \n",
      "0.764948        0.856066        0.522170        0.507027        92      31      \n",
      "0.764956        0.856164        0.522180        0.506846        94      33      \n",
      "0.764961        0.856225        0.522187        0.506685        95      34      \n",
      "0.764811        0.856335        0.522365        0.506513        94      32      \n",
      "0.764727        0.856433        0.522466        0.506345        94      33      \n"
     ]
    },
    {
     "name": "stdout",
     "output_type": "stream",
     "text": [
      "0.764621        0.856450        0.522591        0.506285        94      33      \n",
      "Graceful Exit\n"
     ]
    }
   ],
   "source": [
    "lr = .00001\n",
    "mom = .95\n",
    "\n",
    "# stop the model if it is already running\n",
    "model.stop()\n",
    "\n",
    "# we have to rebuild the graph every time because input queues can't be reopened\n",
    "model.define_graph()\n",
    "\n",
    "learning_rate = tf.placeholder(tf.float32, shape=[])\n",
    "opt_op = tf.train.MomentumOptimizer(learning_rate,mom).minimize(model.loss)\n",
    "with tf.control_dependencies([opt_op]):\n",
    "    train_step = tf.group(*model.averages)\n",
    "\n",
    "# start up the session, kick off the worker threads, restore checkpoint, etc.\n",
    "model.start()\n",
    "\n",
    "try:\n",
    "    ptime = time()\n",
    "    print model.status_header()\n",
    "    while True:\n",
    "        if model.iter % 1000 == 0:\n",
    "            model.update_status(ptime,time(),lr)\n",
    "            model.checkpoint()\n",
    "            print model.status()\n",
    "            ptime = time()\n",
    "\n",
    "        model.sess.run(train_step, feed_dict={learning_rate: lr})\n",
    "        model.iter += 1\n",
    "\n",
    "except KeyboardInterrupt:\n",
    "    model.checkpoint()\n",
    "    print 'Graceful Exit'"
   ]
  },
  {
   "cell_type": "code",
   "execution_count": 10,
   "metadata": {},
   "outputs": [
    {
     "name": "stdout",
     "output_type": "stream",
     "text": [
      "0.767431525181\n",
      "0.509094309967\n"
     ]
    },
    {
     "data": {
      "image/png": "[encoded data removed]",
      "text/plain": [
       "<matplotlib.figure.Figure at 0x7f3e6a5af7d0>"
      ]
     },
     "metadata": {},
     "output_type": "display_data"
    }
   ],
   "source": [
    "burnin=1\n",
    "fig, ((ax1, ax2),(ax3,ax4)) = plt.subplots(2,2)\n",
    "fig.set_figwidth(12)\n",
    "fig.set_figheight(10)\n",
    "ax1.set_title('average precision')\n",
    "ax1.plot(model.stats['iter'][2][burnin:],model.stats['avp_test'][2][burnin:],color='g')\n",
    "ax1.plot(model.stats['iter'][2][burnin:],model.stats['avp_train'][2][burnin:],color='b')\n",
    "ax2.set_title('square loss')\n",
    "ax2.plot(model.stats['iter'][2][burnin:],model.stats['mse_test'][2][burnin:],color='g')\n",
    "ax2.plot(model.stats['iter'][2][burnin:],model.stats['mse_train'][2][burnin:],color='b')\n",
    "ax3.set_title('weights')\n",
    "ax3.plot(model.stats['iter'][2][burnin:],model.stats['nbeta'][2][burnin:],color='g')\n",
    "ax4.set_title('learning rate')\n",
    "ax4.plot(model.stats['iter'][2][burnin:],model.stats['lr'][2][burnin:],color='g')\n",
    "\n",
    "print max(model.stats['avp_test'][2])\n",
    "print min(model.stats['mse_test'][2])"
   ]
  },
  {
   "cell_type": "markdown",
   "metadata": {
    "collapsed": true
   },
   "source": [
    "# Mirex stats"
   ]
  },
  {
   "cell_type": "code",
   "execution_count": 5,
   "metadata": {},
   "outputs": [
    {
     "name": "stdout",
     "output_type": "stream",
     "text": [
      "0.765400517425\n"
     ]
    }
   ],
   "source": [
    "mse_test, Yhat, Y, mse_breakdown, avp_breakdown = model.sample_records(config.test_ids, 7500, fixed_stride=512)\n",
    "avp_test = average_precision_score(Y.flatten(),Yhat.flatten())\n",
    "print avp_test"
   ]
  },
  {
   "cell_type": "code",
   "execution_count": 6,
   "metadata": {},
   "outputs": [
    {
     "name": "stdout",
     "output_type": "stream",
     "text": [
      "AvgP\tP\tR\tAcc\tETot\tESub\tEmiss\tEfa\n",
      "82.56\t77.45\t79.62\t0.65\t0.35\t0.08\t0.12\t0.15\n",
      "AvgP\tP\tR\tAcc\tETot\tESub\tEmiss\tEfa\n",
      "52.77\t60.04\t45.39\t0.35\t0.73\t0.12\t0.43\t0.18\n",
      "AvgP\tP\tR\tAcc\tETot\tESub\tEmiss\tEfa\n",
      "80.58\t76.06\t74.04\t0.60\t0.41\t0.08\t0.18\t0.15\n",
      "0.531794563375 0.496095271013\n"
     ]
    }
   ],
   "source": [
    "Accavg = Etotavg = 0\n",
    "for i in range(3):\n",
    "    _,_,_,Acc,Etot = diagnostics.mirex_statistics(model,i,threshold=.4)\n",
    "    Accavg += Acc\n",
    "    Etotavg += Etot\n",
    "\n",
    "print Accavg/3.,Etotavg/3."
   ]
  },
  {
   "cell_type": "markdown",
   "metadata": {
    "collapsed": true
   },
   "source": [
    "# Extended test set stats"
   ]
  },
  {
   "cell_type": "code",
   "execution_count": 7,
   "metadata": {},
   "outputs": [
    {
     "name": "stdout",
     "output_type": "stream",
     "text": [
      "0.778095512133\n"
     ]
    }
   ],
   "source": [
    "mse_test, Yhat, Y, mse_breakdown, avp_breakdown = model.sample_records(config.test_ids_ext, 7500, fixed_stride=512)\n",
    "avp_test = average_precision_score(Y.flatten(),Yhat.flatten())\n",
    "print avp_test"
   ]
  },
  {
   "cell_type": "code",
   "execution_count": 8,
   "metadata": {},
   "outputs": [
    {
     "name": "stdout",
     "output_type": "stream",
     "text": [
      "AvgP\tP\tR\tAcc\tETot\tESub\tEmiss\tEfa\n",
      "82.56\t77.45\t79.62\t0.65\t0.35\t0.08\t0.12\t0.15\n",
      "AvgP\tP\tR\tAcc\tETot\tESub\tEmiss\tEfa\n",
      "52.77\t60.04\t45.39\t0.35\t0.73\t0.12\t0.43\t0.18\n",
      "AvgP\tP\tR\tAcc\tETot\tESub\tEmiss\tEfa\n",
      "80.58\t76.06\t74.04\t0.60\t0.41\t0.08\t0.18\t0.15\n",
      "AvgP\tP\tR\tAcc\tETot\tESub\tEmiss\tEfa\n",
      "84.09\t76.93\t79.66\t0.64\t0.34\t0.10\t0.10\t0.14\n",
      "AvgP\tP\tR\tAcc\tETot\tESub\tEmiss\tEfa\n",
      "84.80\t72.00\t88.02\t0.66\t0.36\t0.10\t0.02\t0.24\n",
      "AvgP\tP\tR\tAcc\tETot\tESub\tEmiss\tEfa\n",
      "80.51\t74.76\t78.58\t0.62\t0.38\t0.10\t0.11\t0.16\n",
      "AvgP\tP\tR\tAcc\tETot\tESub\tEmiss\tEfa\n",
      "74.24\t62.87\t80.12\t0.54\t0.61\t0.07\t0.13\t0.41\n",
      "AvgP\tP\tR\tAcc\tETot\tESub\tEmiss\tEfa\n",
      "75.56\t69.51\t75.04\t0.56\t0.47\t0.11\t0.14\t0.22\n",
      "AvgP\tP\tR\tAcc\tETot\tESub\tEmiss\tEfa\n",
      "75.91\t71.87\t77.28\t0.59\t0.42\t0.11\t0.12\t0.19\n",
      "AvgP\tP\tR\tAcc\tETot\tESub\tEmiss\tEfa\n",
      "73.43\t74.35\t67.64\t0.55\t0.43\t0.13\t0.20\t0.11\n",
      "0.576531636151 0.44928014652\n"
     ]
    }
   ],
   "source": [
    "Accavg = Etotavg = 0\n",
    "for i in range(10):\n",
    "    _,_,_,Acc,Etot = diagnostics.mirex_statistics(model,i,threshold=.4)\n",
    "    Accavg += Acc\n",
    "    Etotavg += Etot\n",
    "\n",
    "print Accavg/10.,Etotavg/10."
   ]
  },
  {
   "cell_type": "code",
   "execution_count": null,
   "metadata": {},
   "outputs": [],
   "source": []
  }
 ],
 "metadata": {
  "kernelspec": {
   "display_name": "Python 2",
   "language": "python",
   "name": "python2"
  },
  "language_info": {
   "codemirror_mode": {
    "name": "ipython",
    "version": 2
   },
   "file_extension": ".py",
   "mimetype": "text/x-python",
   "name": "python",
   "nbconvert_exporter": "python",
   "pygments_lexer": "ipython2",
   "version": "2.7.6"
  }
 },
 "nbformat": 4,
 "nbformat_minor": 1
}
