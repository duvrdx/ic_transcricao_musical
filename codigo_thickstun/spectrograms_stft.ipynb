{
 "cells": [
  {
   "cell_type": "code",
   "execution_count": 1,
   "metadata": {},
   "outputs": [],
   "source": [
    "import os,sys\n",
    "import cPickle as pickle\n",
    "import numpy as np                                       # fast vectors and matrices\n",
    "import matplotlib.pyplot as plt                          # plotting\n",
    "from scipy.fftpack import fft\n",
    "\n",
    "from time import time\n",
    "\n",
    "sys.path.insert(0,'lib/')\n",
    "import config\n",
    "import diagnostics\n",
    "import base_model\n",
    "\n",
    "from sklearn.metrics import average_precision_score\n",
    "\n",
    "os.environ['CUDA_VISIBLE_DEVICES']=''\n",
    "\n",
    "import tensorflow as tf\n",
    "\n",
    "%matplotlib inline"
   ]
  },
  {
   "cell_type": "code",
   "execution_count": 2,
   "metadata": {},
   "outputs": [],
   "source": [
    "with open(config.labels_path) as f:\n",
    "    labels = pickle.load(f)"
   ]
  },
  {
   "cell_type": "code",
   "execution_count": 3,
   "metadata": {},
   "outputs": [],
   "source": [
    "# filters between 10Hz and 22kHz\n",
    "def create_filters(d,k):\n",
    "    x = np.linspace(0, 2*np.pi, d, endpoint=False)\n",
    "    wsin = np.empty((1,d,1,k), dtype=np.float32)\n",
    "    wcos = np.empty((1,d,1,k), dtype=np.float32)\n",
    "    start_freq = 50.\n",
    "    end_freq = 6000.\n",
    "    num_cycles = start_freq*d/44000.\n",
    "    scaling_ind = (end_freq/start_freq)/k\n",
    "    window_mask = 1.0#-1.0*np.cos(x)\n",
    "    for ind in range(k):\n",
    "        wsin[0,:,0,ind] = window_mask*np.sin((ind*scaling_ind)*num_cycles*x)\n",
    "        wcos[0,:,0,ind] = window_mask*np.cos((ind*scaling_ind)*num_cycles*x)\n",
    "            \n",
    "    return wsin,wcos\n",
    "\n",
    "class Spectrograms(base_model.Model):\n",
    "    def __init__(self, *args, **kwargs):\n",
    "        super(Spectrograms, self).__init__(*args, **kwargs)\n",
    "\n",
    "    def define_graph(self):\n",
    "        super(Spectrograms, self).define_graph()\n",
    "        \n",
    "        # lvl1 convolutions are shared between regions\n",
    "        self.k = 512              # lvl1 nodes\n",
    "        self.d = 4096              # lvl1 receptive field\n",
    "\n",
    "        # number of lvl1 features\n",
    "        regions = 1 + (self.window - self.d)/self.stride\n",
    "        print 'Number of V1 feature regions: {}'.format(regions)\n",
    "\n",
    "        # preconditionable weights\n",
    "        wsin,wcos = create_filters(self.d,self.k)\n",
    "\n",
    "        with tf.variable_scope('parameters'):\n",
    "            beta = tf.Variable(tf.zeros([regions*self.k,self.m]))\n",
    "            betaavg = self.register_weights(beta,'beta',average=.9998)\n",
    "\n",
    "        with tf.variable_scope('queued_model'):\n",
    "            zx = tf.square(tf.nn.conv2d(self.xq,wsin,strides=[1,1,self.stride,1],padding='VALID')) \\\n",
    "               + tf.square(tf.nn.conv2d(self.xq,wcos,strides=[1,1,self.stride,1],padding='VALID'))\n",
    "            y = tf.matmul(tf.reshape(tf.log(zx + 10e-12),[self.batch_size,regions*self.k]),beta)\n",
    "            self.loss = tf.reduce_mean(tf.nn.l2_loss(y-tf.reshape(self.yq,[self.batch_size,self.m])))\n",
    "\n",
    "        with tf.variable_scope('direct_model'):\n",
    "            self.zx = tf.square(tf.nn.conv2d(self.xd,wsin,strides=[1,1,self.stride,1],padding='VALID')) \\\n",
    "                    + tf.square(tf.nn.conv2d(self.xd,wcos,strides=[1,1,self.stride,1],padding='VALID'))\n",
    "            self.y_direct = tf.matmul(tf.reshape(tf.log(self.zx + 10e-12),[tf.shape(self.xd)[0],regions*self.k]),betaavg)\n",
    "            self.loss_direct = tf.reduce_mean(tf.nn.l2_loss(self.y_direct-self.yd))"
   ]
  },
  {
   "cell_type": "code",
   "execution_count": 4,
   "metadata": {},
   "outputs": [
    {
     "name": "stdout",
     "output_type": "stream",
     "text": [
      "Number of V1 feature regions: 25\n"
     ]
    }
   ],
   "source": [
    "try: model.stop()\n",
    "except NameError: pass\n",
    "model = Spectrograms(labels,checkpoint_path='spectrograms_stft/', outputs=1, window=16384, mmap=True,\n",
    "                    normalize=True, extended_test_set=True, use_mirex=False, init=False, pitch_transforms=5, jitter=.1,\n",
    "                    restrict=False)"
   ]
  },
  {
   "cell_type": "code",
   "execution_count": null,
   "metadata": {},
   "outputs": [
    {
     "name": "stdout",
     "output_type": "stream",
     "text": [
      "Number of V1 feature regions: 25\n",
      "avp_test\tavp_train\tmse_test\tmse_train\ttime\tutime\n",
      "0.618337        0.641167        0.714997        0.875767        20      20      \n",
      "0.618361        0.641163        0.714983        0.875770        64      23      \n",
      "0.618369        0.641161        0.714970        0.875774        62      20      \n",
      "0.618651        0.641330        0.714884        0.875667        63      21      \n",
      "0.618663        0.641333        0.714862        0.875664        65      22      \n",
      "0.618668        0.641343        0.714853        0.875664        64      22      \n",
      "0.618675        0.641341        0.714840        0.875661        64      22      \n",
      "0.618797        0.641359        0.714721        0.875617        64      20      \n",
      "0.618808        0.641365        0.714723        0.875614        65      22      \n",
      "0.618816        0.641377        0.714714        0.875612        63      21      \n",
      "0.618821        0.641379        0.714716        0.875609        63      21      \n",
      "0.618819        0.641388        0.714716        0.875603        63      19      \n",
      "0.618827        0.641392        0.714722        0.875606        65      22      \n",
      "0.618829        0.641394        0.714738        0.875610        64      22      \n",
      "0.618840        0.641401        0.714733        0.875609        62      19      \n",
      "0.618864        0.641415        0.714726        0.875603        67      22      \n",
      "0.618882        0.641422        0.714697        0.875597        64      20      \n",
      "0.618893        0.641427        0.714686        0.875590        63      20      \n",
      "0.618898        0.641426        0.714685        0.875591        64      19      \n",
      "0.618918        0.641431        0.714675        0.875587        65      21      \n",
      "0.618928        0.641439        0.714659        0.875581        63      20      \n",
      "0.618931        0.641446        0.714667        0.875580        63      19      \n",
      "0.618928        0.641443        0.714680        0.875575        66      21      \n",
      "0.618931        0.641440        0.714680        0.875572        65      22      \n",
      "0.618934        0.641444        0.714663        0.875573        64      20      \n",
      "Graceful Exit\n"
     ]
    }
   ],
   "source": [
    "lr = .000000001/2/2/3\n",
    "mom = .95\n",
    "\n",
    "# stop the model if it is already running\n",
    "model.stop()\n",
    "\n",
    "# we have to rebuild the graph every time because input queues can't be reopened\n",
    "model.define_graph()\n",
    "\n",
    "learning_rate = tf.placeholder(tf.float32, shape=[])\n",
    "opt_op = tf.train.MomentumOptimizer(learning_rate,mom).minimize(model.loss)\n",
    "with tf.control_dependencies([opt_op]):\n",
    "    train_step = tf.group(*model.averages)\n",
    "\n",
    "# start up the session, kick off the worker threads, restore checkpoint, etc.\n",
    "model.start()\n",
    "\n",
    "try:\n",
    "    ptime = time()\n",
    "    print model.status_header()\n",
    "    while True:\n",
    "        if model.iter % 1000 == 0:\n",
    "            model.update_status(ptime,time(),lr)\n",
    "            model.checkpoint()\n",
    "            print model.status()\n",
    "            ptime = time()\n",
    "\n",
    "        model.sess.run(train_step, feed_dict={learning_rate: lr})\n",
    "        model.iter += 1\n",
    "\n",
    "except KeyboardInterrupt:\n",
    "    model.checkpoint()\n",
    "    print 'Graceful Exit'"
   ]
  },
  {
   "cell_type": "code",
   "execution_count": 14,
   "metadata": {},
   "outputs": [
    {
     "name": "stdout",
     "output_type": "stream",
     "text": [
      "0.619712327136\n",
      "0.714324002707\n"
     ]
    },
    {
     "data": {
      "image/png": "[encoded data removed]",
      "text/plain": [
       "<matplotlib.figure.Figure at 0x7fd3d1fb3b10>"
      ]
     },
     "metadata": {},
     "output_type": "display_data"
    }
   ],
   "source": [
    "burnin=100\n",
    "fig, ((ax1, ax2),(ax3,ax4)) = plt.subplots(2,2)\n",
    "fig.set_figwidth(12)\n",
    "fig.set_figheight(10)\n",
    "ax1.set_title('average precision')\n",
    "ax1.plot(model.stats['iter'][2][burnin:],model.stats['avp_test'][2][burnin:],color='g')\n",
    "ax1.plot(model.stats['iter'][2][burnin:],model.stats['avp_train'][2][burnin:],color='b')\n",
    "ax2.set_title('square loss')\n",
    "ax2.plot(model.stats['iter'][2][burnin:],model.stats['mse_test'][2][burnin:],color='g')\n",
    "ax2.plot(model.stats['iter'][2][burnin:],model.stats['mse_train'][2][burnin:],color='b')\n",
    "ax3.set_title('weights')\n",
    "ax3.plot(model.stats['iter'][2][burnin:],model.stats['nbeta'][2][burnin:],color='g')\n",
    "ax4.set_title('learning rate')\n",
    "ax4.plot(model.stats['iter'][2][burnin:],model.stats['lr'][2][burnin:],color='g')\n",
    "\n",
    "print max(model.stats['avp_test'][2])\n",
    "print min(model.stats['mse_test'][2])"
   ]
  },
  {
   "cell_type": "markdown",
   "metadata": {
    "collapsed": true
   },
   "source": [
    "# Mirex Stats"
   ]
  },
  {
   "cell_type": "code",
   "execution_count": 5,
   "metadata": {},
   "outputs": [
    {
     "name": "stdout",
     "output_type": "stream",
     "text": [
      "0.60451822475\n"
     ]
    }
   ],
   "source": [
    "mse_test, Yhat, Y, mse_breakdown, avp_breakdown = model.sample_records(config.test_ids, 7500, fixed_stride=512)\n",
    "avp_test = average_precision_score(Y.flatten(),Yhat.flatten())\n",
    "print avp_test"
   ]
  },
  {
   "cell_type": "code",
   "execution_count": 6,
   "metadata": {},
   "outputs": [
    {
     "name": "stdout",
     "output_type": "stream",
     "text": [
      "AvgP\tP\tR\tAcc\tETot\tESub\tEmiss\tEfa\n",
      "67.40\t71.21\t55.89\t0.46\t0.56\t0.11\t0.33\t0.12\n",
      "AvgP\tP\tR\tAcc\tETot\tESub\tEmiss\tEfa\n",
      "34.30\t48.84\t26.45\t0.21\t0.89\t0.13\t0.61\t0.15\n",
      "AvgP\tP\tR\tAcc\tETot\tESub\tEmiss\tEfa\n",
      "72.74\t78.29\t47.92\t0.42\t0.60\t0.05\t0.47\t0.08\n",
      "0.36200608168 0.681193479307\n"
     ]
    }
   ],
   "source": [
    "Accavg = Etotavg = 0\n",
    "for i in range(3):\n",
    "    _,_,_,Acc,Etot = diagnostics.mirex_statistics(model,i,threshold=.4)\n",
    "    Accavg += Acc\n",
    "    Etotavg += Etot\n",
    "\n",
    "print Accavg/3.,Etotavg/3."
   ]
  },
  {
   "cell_type": "markdown",
   "metadata": {},
   "source": [
    "# Extended test set stats"
   ]
  },
  {
   "cell_type": "code",
   "execution_count": 7,
   "metadata": {},
   "outputs": [
    {
     "name": "stdout",
     "output_type": "stream",
     "text": [
      "0.629120842711\n"
     ]
    }
   ],
   "source": [
    "mse_test, Yhat, Y, mse_breakdown, avp_breakdown = model.sample_records(config.test_ids_ext, 7500, fixed_stride=512)\n",
    "avp_test = average_precision_score(Y.flatten(),Yhat.flatten())\n",
    "print avp_test"
   ]
  },
  {
   "cell_type": "code",
   "execution_count": 8,
   "metadata": {},
   "outputs": [
    {
     "name": "stdout",
     "output_type": "stream",
     "text": [
      "AvgP\tP\tR\tAcc\tETot\tESub\tEmiss\tEfa\n",
      "67.40\t71.21\t55.89\t0.46\t0.56\t0.11\t0.33\t0.12\n",
      "AvgP\tP\tR\tAcc\tETot\tESub\tEmiss\tEfa\n",
      "34.30\t48.84\t26.45\t0.21\t0.89\t0.13\t0.61\t0.15\n",
      "AvgP\tP\tR\tAcc\tETot\tESub\tEmiss\tEfa\n",
      "72.74\t78.29\t47.92\t0.42\t0.60\t0.05\t0.47\t0.08\n",
      "AvgP\tP\tR\tAcc\tETot\tESub\tEmiss\tEfa\n",
      "60.83\t57.96\t61.54\t0.43\t0.65\t0.18\t0.20\t0.26\n",
      "AvgP\tP\tR\tAcc\tETot\tESub\tEmiss\tEfa\n",
      "66.25\t52.64\t87.49\t0.49\t0.79\t0.12\t0.01\t0.67\n",
      "AvgP\tP\tR\tAcc\tETot\tESub\tEmiss\tEfa\n",
      "68.91\t72.85\t55.52\t0.46\t0.51\t0.14\t0.31\t0.07\n",
      "AvgP\tP\tR\tAcc\tETot\tESub\tEmiss\tEfa\n",
      "60.84\t61.39\t60.56\t0.44\t0.70\t0.08\t0.32\t0.30\n",
      "AvgP\tP\tR\tAcc\tETot\tESub\tEmiss\tEfa\n",
      "67.03\t70.94\t53.04\t0.44\t0.56\t0.12\t0.35\t0.09\n",
      "AvgP\tP\tR\tAcc\tETot\tESub\tEmiss\tEfa\n",
      "66.02\t69.38\t58.89\t0.47\t0.53\t0.14\t0.27\t0.12\n",
      "AvgP\tP\tR\tAcc\tETot\tESub\tEmiss\tEfa\n",
      "64.52\t70.95\t52.93\t0.44\t0.55\t0.14\t0.33\t0.08\n",
      "0.423771815484 0.633949578119\n"
     ]
    }
   ],
   "source": [
    "Accavg = Etotavg = 0\n",
    "for i in range(10):\n",
    "    _,_,_,Acc,Etot = diagnostics.mirex_statistics(model,i,threshold=.4)\n",
    "    Accavg += Acc\n",
    "    Etotavg += Etot\n",
    "\n",
    "print Accavg/10.,Etotavg/10."
   ]
  },
  {
   "cell_type": "code",
   "execution_count": null,
   "metadata": {},
   "outputs": [],
   "source": []
  }
 ],
 "metadata": {
  "kernelspec": {
   "display_name": "Python 2",
   "language": "python",
   "name": "python2"
  },
  "language_info": {
   "codemirror_mode": {
    "name": "ipython",
    "version": 2
   },
   "file_extension": ".py",
   "mimetype": "text/x-python",
   "name": "python",
   "nbconvert_exporter": "python",
   "pygments_lexer": "ipython2",
   "version": "2.7.6"
  }
 },
 "nbformat": 4,
 "nbformat_minor": 1
}
